{
 "cells": [
  {
   "cell_type": "code",
   "execution_count": 16,
   "metadata": {},
   "outputs": [],
   "source": [
    "import re"
   ]
  },
  {
   "cell_type": "code",
   "execution_count": 17,
   "metadata": {},
   "outputs": [],
   "source": [
    "# Открываем файл\n",
    "file_obj = open('sentences.txt', 'r')"
   ]
  },
  {
   "cell_type": "code",
   "execution_count": 18,
   "metadata": {},
   "outputs": [],
   "source": [
    "# Составляем список слов в тексте\n",
    "data_list = list(file_obj.readlines())\n",
    "uwords = dict()\n",
    "uwords_qty=0\n",
    "lines_qty=0\n",
    "for line in data_list: \n",
    "    lines_qty=lines_qty+1\n",
    "    line_words=re.split('[^a-z]', line.lower())\n",
    "    for word in line_words:\n",
    "        if (len(word)!=0)&(not(word in uwords)):\n",
    "            uwords[word]=uwords_qty\n",
    "            uwords_qty=uwords_qty+1"
   ]
  },
  {
   "cell_type": "code",
   "execution_count": 19,
   "metadata": {},
   "outputs": [
    {
     "name": "stdout",
     "output_type": "stream",
     "text": [
      "22\n",
      "254\n"
     ]
    }
   ],
   "source": [
    "print(lines_qty)\n",
    "print(uwords_qty)"
   ]
  },
  {
   "cell_type": "code",
   "execution_count": 20,
   "metadata": {},
   "outputs": [],
   "source": [
    "\n",
    "# Создаем матрицу с количеством вхождений слов\n",
    "import numpy as np\n",
    "cur_line=0\n",
    "ma=np.zeros((lines_qty,uwords_qty))\n",
    "for line in data_list: \n",
    "    line_words=re.split('[^a-z]', line.lower())\n",
    "    for word in line_words:\n",
    "        if (len(word)!=0):\n",
    "            ma[cur_line,uwords[word]]=ma[cur_line,uwords[word]]+1\n",
    "    cur_line=cur_line+1"
   ]
  },
  {
   "cell_type": "code",
   "execution_count": 21,
   "metadata": {},
   "outputs": [],
   "source": [
    "# Поиск кос. расстояния для строк\n",
    "from scipy.spatial.distance import cosine\n",
    "import operator\n",
    "cos_dict=dict()\n",
    "ref_raw=ma[0,:]\n",
    "for line_num in (range(lines_qty)):\n",
    "    cur_raw=ma[line_num,:]\n",
    "    cos_dict[line_num]=cosine(ref_raw,cur_raw)\n",
    "cos_dict_sorted = sorted(cos_dict.items(), key=operator.itemgetter(1))"
   ]
  },
  {
   "cell_type": "code",
   "execution_count": 22,
   "metadata": {},
   "outputs": [],
   "source": [
    "# Записываем № наиболее близких строк в файл\n",
    "res_file_obj=open('submission-1.txt','w')\n",
    "i=0\n",
    "for line in cos_dict_sorted:\n",
    "    i = i+1\n",
    "    if (i<2)|(i>3): continue\n",
    "    res_file_obj.write(str(line[0]))\n",
    "    res_file_obj.write(' ')\n",
    "res_file_obj.close()"
   ]
  },
  {
   "cell_type": "code",
   "execution_count": 23,
   "metadata": {},
   "outputs": [
    {
     "data": {
      "text/plain": [
       "[(0, 0.0),\n",
       " (6, 0.7327387580875756),\n",
       " (4, 0.7770887149698589),\n",
       " (21, 0.8250364469440588),\n",
       " (10, 0.8328165362273942),\n",
       " (12, 0.8396432548525454),\n",
       " (16, 0.8406361854220809),\n",
       " (20, 0.8427572744917122),\n",
       " (2, 0.8644738145642124),\n",
       " (13, 0.8703592552895671),\n",
       " (14, 0.8740118423302576),\n",
       " (11, 0.8804771390665607),\n",
       " (8, 0.8842724875284311),\n",
       " (19, 0.8885443574849294),\n",
       " (3, 0.8951715163278082),\n",
       " (9, 0.9055088817476932),\n",
       " (7, 0.9258750683338899),\n",
       " (5, 0.9402385695332803),\n",
       " (15, 0.9442721787424647),\n",
       " (18, 0.9442721787424647),\n",
       " (1, 0.9527544408738466),\n",
       " (17, 0.956644501523794)]"
      ]
     },
     "execution_count": 23,
     "metadata": {},
     "output_type": "execute_result"
    }
   ],
   "source": [
    "cos_dict_sorted"
   ]
  },
  {
   "cell_type": "code",
   "execution_count": null,
   "metadata": {},
   "outputs": [],
   "source": [
    "pass"
   ]
  }
 ],
 "metadata": {
  "kernelspec": {
   "display_name": "Python 3",
   "language": "python",
   "name": "python3"
  },
  "language_info": {
   "codemirror_mode": {
    "name": "ipython",
    "version": 3
   },
   "file_extension": ".py",
   "mimetype": "text/x-python",
   "name": "python",
   "nbconvert_exporter": "python",
   "pygments_lexer": "ipython3",
   "version": "3.7.2"
  }
 },
 "nbformat": 4,
 "nbformat_minor": 2
}
