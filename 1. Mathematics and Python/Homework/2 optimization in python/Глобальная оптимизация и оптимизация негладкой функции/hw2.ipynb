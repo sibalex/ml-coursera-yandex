{
 "cells": [
  {
   "cell_type": "markdown",
   "metadata": {},
   "source": [
    "## Минимизация гладкой функции\n",
    "1. Рассмотрим все ту же функцию из задания по линейной алгебре: f(x) = sin(x / 5) exp(x / 10) + 5 exp(-x / 2), но теперь уже на промежутке [1, 30]\n"
   ]
  },
  {
   "cell_type": "code",
   "execution_count": 1,
   "metadata": {},
   "outputs": [],
   "source": [
    "from math import sin, exp\n",
    "\n",
    "def func1(x):\n",
    "    return sin(x / 5.) * exp(x / 10.) + 5. * exp(-x/ 2.)"
   ]
  },
  {
   "cell_type": "code",
   "execution_count": 3,
   "metadata": {},
   "outputs": [
    {
     "name": "stdout",
     "output_type": "stream",
     "text": [
      "[ 1.  2.  3.  4.  5.  6.  7.  8.  9. 10. 11. 12. 13. 14. 15. 16. 17. 18.\n",
      " 19. 20. 21. 22. 23. 24. 25. 26. 27. 28. 29. 30.]\n",
      "Shape x: (30,)\n",
      "[  3.25221687   2.31503384   1.87783842   1.74684595   1.7977761\n",
      "   1.94722128   2.13543898   2.31617016   2.45082365   2.50541641\n",
      "   2.44929128   2.2550105    1.89904466   1.36300335   0.63522142\n",
      "  -0.28745171  -1.39780121  -2.67647563  -4.09044301  -5.59182909\n",
      "  -7.11729817  -8.58813805  -9.91120472 -10.98086747 -11.68207055\n",
      " -11.89459075 -11.49852141 -10.38095272  -8.44374503  -5.61220878]\n",
      "Shape y: (30,)\n"
     ]
    }
   ],
   "source": [
    "import numpy as np\n",
    "\n",
    "xArr1 = np.arange(1., 31.)\n",
    "print (xArr1)\n",
    "print (\"Shape x:\", xArr1.shape)\n",
    "yArr1 = np.array([func1(x) for x in xArr1])\n",
    "print (yArr1)\n",
    "print (\"Shape y:\", yArr1.shape)"
   ]
  },
  {
   "cell_type": "code",
   "execution_count": 4,
   "metadata": {},
   "outputs": [],
   "source": [
    "%matplotlib inline\n",
    "import matplotlib.pyplot as plt"
   ]
  },
  {
   "cell_type": "code",
   "execution_count": 5,
   "metadata": {},
   "outputs": [
    {
     "data": {
      "image/png": "[encoded data removed]",
      "text/plain": [
       "<Figure size 432x288 with 1 Axes>"
      ]
     },
     "metadata": {
      "needs_background": "light"
     },
     "output_type": "display_data"
    }
   ],
   "source": [
    "plt.plot(xArr1, yArr1)\n",
    "plt.grid(True)\n",
    "plt.axis([0, 30, -15, 5])\n",
    "plt.show()"
   ]
  },
  {
   "cell_type": "markdown",
   "metadata": {},
   "source": [
    "2. В первом задании будем искать минимум этой функции на заданном промежутке с помощью scipy.optimize. Разумеется, в дальнейшем вы будете использовать методы оптимизации для более сложных функций, а f(x) мы рассмотрим как удобный учебный пример.\n",
    "3. Напишите на Питоне функцию, вычисляющую значение f(x) по известному x. Будьте внимательны: не забывайте про то, что по умолчанию в питоне целые числа делятся нацело, и о том, что функции sin и exp нужно импортировать из модуля math.\n",
    "4. Изучите примеры использования scipy.optimize.minimize в документации Scipy (см. \"Материалы\")\n",
    "5. Попробуйте найти минимум, используя стандартные параметры в функции scipy.optimize.minimize (т.е. задав только функцию и начальное приближение). Попробуйте менять начальное приближение и изучить, меняется ли результат."
   ]
  },
  {
   "cell_type": "code",
   "execution_count": 33,
   "metadata": {},
   "outputs": [],
   "source": [
    "from scipy.optimize import minimize"
   ]
  },
  {
   "cell_type": "code",
   "execution_count": 34,
   "metadata": {},
   "outputs": [],
   "source": [
    "minFunc1Value1 = minimize(func1, 5)"
   ]
  },
  {
   "cell_type": "code",
   "execution_count": 41,
   "metadata": {},
   "outputs": [
    {
     "name": "stdout",
     "output_type": "stream",
     "text": [
      "Minimized f(x) (standard method):  1.745 for x =  [4.136]\n",
      "Number of iterations:  6\n"
     ]
    }
   ],
   "source": [
    "print (\"Minimized f(x) (standard method): \", np.round(minFunc1Value1.fun, 3), \"for x = \", np.round(minFunc1Value1.x, 3))\n",
    "print (\"Number of iterations: \", minFunc1Value1.nit)"
   ]
  },
  {
   "cell_type": "markdown",
   "metadata": {},
   "source": [
    "6. Укажите в scipy.optimize.minimize в качестве метода BFGS (один из самых точных в большинстве случаев градиентных методов оптимизации), запустите из начального приближения x=2. Градиент функции при этом указывать не нужно – он будет оценен численно. Полученное значение функции в точке минимума - ваш первый ответ по заданию 1, его надо записать с точностью до 2 знака после запятой."
   ]
  },
  {
   "cell_type": "code",
   "execution_count": 48,
   "metadata": {},
   "outputs": [
    {
     "name": "stdout",
     "output_type": "stream",
     "text": [
      "Minimized f(x) (BFGS method):  1.745 for x =  [4.136]\n",
      "Number of iterations:  6\n",
      "[1.75 0.  ]\n"
     ]
    }
   ],
   "source": [
    "minFunc1Value2 = minimize(func1, 2, method = 'BFGS')\n",
    "print (\"Minimized f(x) (BFGS method): \", round(minFunc1Value2.fun, 3), \"for x = \", np.round(minFunc1Value2.x, 3))\n",
    "print (\"Number of iterations: \", minFunc1Value2.nit)\n",
    "\n",
    "minValuesAnswer1 = np.zeros( (2) )\n",
    "minValuesAnswer1[0] = round(minFunc1Value2.fun, 2)\n",
    "print (minValuesAnswer1)"
   ]
  },
  {
   "cell_type": "markdown",
   "metadata": {},
   "source": [
    "7. Теперь измените начальное приближение на x=30. Значение функции в точке минимума - ваш второй ответ по заданию 1, его надо записать через пробел после первого, с точностью до 2 знака после запятой."
   ]
  },
  {
   "cell_type": "code",
   "execution_count": 53,
   "metadata": {},
   "outputs": [
    {
     "name": "stdout",
     "output_type": "stream",
     "text": [
      "Minimized f(x) (BFGS method):  -11.899 for x =  [25.88]\n",
      "Number of iterations:  6\n",
      "[  1.75 -11.9 ]\n"
     ]
    }
   ],
   "source": [
    "minFunc1Value3 = minimize(func1, 30, method = 'BFGS')\n",
    "print (\"Minimized f(x) (BFGS method): \", round(minFunc1Value3.fun, 3), \"for x = \", np.round(minFunc1Value3.x, 3))\n",
    "print (\"Number of iterations: \", minFunc1Value3.nit)\n",
    "\n",
    "minValuesAnswer1[1] = round(minFunc1Value3.fun, 2)\n",
    "print (minValuesAnswer1)"
   ]
  },
  {
   "cell_type": "markdown",
   "metadata": {},
   "source": [
    "8. Стоит обдумать полученный результат. Почему ответ отличается в зависимости от начального приближения? Если нарисовать график функции (например, как это делалось в видео, где мы знакомились с Numpy, Scipy и Matplotlib), можно увидеть, в какие именно минимумы мы попали. В самом деле, градиентные методы обычно не решают задачу глобальной оптимизации, поэтому результаты работы ожидаемые и вполне корректные."
   ]
  },
  {
   "cell_type": "code",
   "execution_count": 54,
   "metadata": {},
   "outputs": [
    {
     "name": "stdout",
     "output_type": "stream",
     "text": [
      "[  1.75 -11.9 ]\n"
     ]
    }
   ],
   "source": [
    "print (minValuesAnswer1)"
   ]
  },
  {
   "cell_type": "code",
   "execution_count": 55,
   "metadata": {},
   "outputs": [],
   "source": [
    "with open(\"homework1.txt\", \"w\") as fAnswer:\n",
    "    for item in minValuesAnswer1:\n",
    "        fAnswer.write(str(item) + ' ')"
   ]
  },
  {
   "cell_type": "markdown",
   "metadata": {},
   "source": [
    "## Глобальная оптимизация\n",
    "1. Теперь попробуем применить к той же функции f(x) метод глобальной оптимизации — дифференциальную эволюцию.\n",
    "2. Изучите документацию и примеры использования функции scipy.optimize.differential_evolution.\n",
    "3. Обратите внимание, что границы значений аргументов функции представляют собой список кортежей (list, в который помещены объекты типа tuple). Даже если у вас функция одного аргумента, возьмите границы его значений в квадратные скобки, чтобы передавать в этом параметре список из одного кортежа, т.к. в реализации scipy.optimize.differential_evolution длина этого списка используется чтобы определить количество аргументов функции.\n",
    "4. Запустите поиск минимума функции f(x) с помощью дифференциальной эволюции на промежутке [1, 30]. Полученное значение функции в точке минимума - ответ в задаче 2. Запишите его с точностью до второго знака после запятой. В этой задаче ответ - только одно число.\n",
    "5. Заметьте, дифференциальная эволюция справилась с задачей поиска глобального минимума на отрезке, т.к. по своему устройству она предполагает борьбу с попаданием в локальные минимумы.\n",
    "6. Сравните количество итераций, потребовавшихся BFGS для нахождения минимума при хорошем начальном приближении, с количеством итераций, потребовавшихся дифференциальной эволюции. При повторных запусках дифференциальной эволюции количество итераций будет меняться, но в этом примере, скорее всего, оно всегда будет сравнимым с количеством итераций BFGS. Однако в дифференциальной эволюции за одну итерацию требуется выполнить гораздо больше действий, чем в BFGS. Например, можно обратить внимание на количество вычислений значения функции (nfev) и увидеть, что у BFGS оно значительно меньше. Кроме того, время работы дифференциальной эволюции очень быстро растет с увеличением числа аргументов функции."
   ]
  },
  {
   "cell_type": "code",
   "execution_count": 58,
   "metadata": {},
   "outputs": [
    {
     "name": "stdout",
     "output_type": "stream",
     "text": [
      "Minimized f(x) (differential evolution):  -11.899 for x =  [25.88]\n",
      "Number of iterations:  6\n"
     ]
    }
   ],
   "source": [
    "from scipy.optimize import differential_evolution\n",
    "\n",
    "bounds = [(1, 30)]\n",
    "minFunc1Value4 = differential_evolution(func1, bounds)\n",
    "print (\"Minimized f(x) (differential evolution): \", round(minFunc1Value4.fun, 3), \"for x = \", np.round(minFunc1Value4.x, 3))\n",
    "print (\"Number of iterations: \", minFunc1Value4.nit)"
   ]
  },
  {
   "cell_type": "code",
   "execution_count": 59,
   "metadata": {},
   "outputs": [],
   "source": [
    "with open(\"homework2.txt\", \"w\") as fAnswer:\n",
    "    fAnswer.write(str(round(minFunc1Value4.fun, 2)))"
   ]
  },
  {
   "cell_type": "markdown",
   "metadata": {},
   "source": [
    "## Минимизация негладкой функции\n",
    "1. Теперь рассмотрим функцию h(x) = int(f(x)) на том же отрезке [1, 30], т.е. теперь каждое значение f(x) приводится к типу int и функция принимает только целые значения.\n",
    "2. Такая функция будет негладкой и даже разрывной, а ее график будет иметь ступенчатый вид. Убедитесь в этом, построив график h(x) с помощью matplotlib."
   ]
  },
  {
   "cell_type": "code",
   "execution_count": 61,
   "metadata": {},
   "outputs": [
    {
     "name": "stdout",
     "output_type": "stream",
     "text": [
      "[ 1.    1.01  1.02 ... 30.97 30.98 30.99]\n",
      "Shape x: (3000,)\n",
      "[ 3  3  3 ... -1 -1 -1]\n",
      "Shape y: (3000,)\n"
     ]
    }
   ],
   "source": [
    "def func2(x): return int(func1(x))\n",
    "\n",
    "xArr2 = np.arange(1., 31., 0.01)\n",
    "print (xArr2)\n",
    "print (\"Shape x:\", xArr2.shape)\n",
    "yArr2 = np.array([func2(x) for x in xArr2])\n",
    "print (yArr2)\n",
    "print (\"Shape y:\", yArr2.shape)"
   ]
  },
  {
   "cell_type": "code",
   "execution_count": 63,
   "metadata": {},
   "outputs": [
    {
     "data": {
      "image/png": "[encoded data removed]",
      "text/plain": [
       "<Figure size 432x288 with 1 Axes>"
      ]
     },
     "metadata": {
      "needs_background": "light"
     },
     "output_type": "display_data"
    }
   ],
   "source": [
    "plt.plot(xArr2, yArr2)\n",
    "plt.grid(True)\n",
    "plt.axis([0, 30, -15, 5])\n",
    "plt.show()"
   ]
  },
  {
   "cell_type": "markdown",
   "metadata": {},
   "source": [
    "3. Попробуйте найти минимум функции h(x) с помощью BFGS, взяв в качестве начального приближения x=30. Получившееся значение функции – ваш первый ответ в этой задаче."
   ]
  },
  {
   "cell_type": "code",
   "execution_count": 64,
   "metadata": {},
   "outputs": [
    {
     "name": "stdout",
     "output_type": "stream",
     "text": [
      "Minimized f(x) (BFGS method):  -5 for x =  [30.]\n",
      "Number of iterations:  0\n",
      "[-5.  0.]\n"
     ]
    }
   ],
   "source": [
    "minFunc2Value1 = minimize(func2, 30, method = 'BFGS')\n",
    "print (\"Minimized f(x) (BFGS method): \", round(minFunc2Value1.fun, 3), \"for x = \", np.round(minFunc2Value1.x, 3))\n",
    "print (\"Number of iterations: \", minFunc2Value1.nit)\n",
    "\n",
    "minValuesAnswer2 = np.zeros( (2) )\n",
    "minValuesAnswer2[0] = round(minFunc2Value1.fun, 2)\n",
    "print (minValuesAnswer2)"
   ]
  },
  {
   "cell_type": "markdown",
   "metadata": {},
   "source": [
    "4. Теперь попробуйте найти минимум h(x) на отрезке [1, 30] с помощью дифференциальной эволюции. Значение функции h(x) в точке минимума – это ваш второй ответ в этом задании. Запишите его через пробел после предыдущего.\n",
    "5. Обратите внимание на то, что полученные ответы различаются. Это ожидаемый результат, ведь BFGS использует градиент (в одномерном случае – производную) и явно не пригоден для минимизации рассмотренной нами разрывной функции. Попробуйте понять, почему минимум, найденный BFGS, именно такой (возможно в этом вам поможет выбор разных начальных приближений)."
   ]
  },
  {
   "cell_type": "code",
   "execution_count": 65,
   "metadata": {},
   "outputs": [
    {
     "name": "stdout",
     "output_type": "stream",
     "text": [
      "Minimized f(x) (BFGS method):  -11.0 for x =  [26.559]\n",
      "Number of iterations:  4\n",
      "[ -5. -11.]\n"
     ]
    }
   ],
   "source": [
    "minFunc2Value2 = differential_evolution(func2, bounds)\n",
    "print (\"Minimized f(x) (BFGS method): \", round(minFunc2Value2.fun, 3), \"for x = \", np.round(minFunc2Value2.x, 3))\n",
    "print (\"Number of iterations: \", minFunc2Value2.nit)\n",
    "\n",
    "minValuesAnswer2[1] = round(minFunc2Value2.fun, 2)\n",
    "print (minValuesAnswer2)"
   ]
  },
  {
   "cell_type": "code",
   "execution_count": 66,
   "metadata": {},
   "outputs": [],
   "source": [
    "with open(\"homework3.txt\", \"w\") as fAnswer:\n",
    "    for item in minValuesAnswer2:\n",
    "        fAnswer.write(str(item) + ' ')"
   ]
  },
  {
   "cell_type": "code",
   "execution_count": null,
   "metadata": {},
   "outputs": [],
   "source": [
    "pass"
   ]
  }
 ],
 "metadata": {
  "kernelspec": {
   "display_name": "Python 3",
   "language": "python",
   "name": "python3"
  },
  "language_info": {
   "codemirror_mode": {
    "name": "ipython",
    "version": 3
   },
   "file_extension": ".py",
   "mimetype": "text/x-python",
   "name": "python",
   "nbconvert_exporter": "python",
   "pygments_lexer": "ipython3",
   "version": "3.7.3"
  }
 },
 "nbformat": 4,
 "nbformat_minor": 2
}
